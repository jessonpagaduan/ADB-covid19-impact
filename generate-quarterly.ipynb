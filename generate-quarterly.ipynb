{
 "cells": [
  {
   "cell_type": "code",
   "execution_count": 48,
   "metadata": {},
   "outputs": [],
   "source": [
    "import pandas as pd\n",
    "import numpy as np\n",
    "import pycountry"
   ]
  },
  {
   "cell_type": "code",
   "execution_count": 75,
   "metadata": {},
   "outputs": [
    {
     "name": "stderr",
     "output_type": "stream",
     "text": [
      "C:\\Anaconda\\lib\\site-packages\\IPython\\core\\interactiveshell.py:3146: DtypeWarning: Columns (2,3) have mixed types.Specify dtype option on import or set low_memory=False.\n",
      "  interactivity=interactivity, compiler=compiler, result=result)\n",
      "C:\\Anaconda\\lib\\site-packages\\IPython\\core\\interactiveshell.py:3146: DtypeWarning: Columns (4,5) have mixed types.Specify dtype option on import or set low_memory=False.\n",
      "  interactivity=interactivity, compiler=compiler, result=result)\n"
     ]
    }
   ],
   "source": [
    "df_gdp = pd.read_excel('GDP_yoy_global_28jan2021.xlsx', sheet_name='for-python')\n",
    "df_gdp.set_index('code', inplace=True)\n",
    "\n",
    "# Import the latest OxCGRT data from the team's Github repo\n",
    "url_str = 'https://raw.githubusercontent.com/OxCGRT/covid-policy-tracker/master/data/OxCGRT_latest.csv'\n",
    "df_str = pd.read_csv(url_str, parse_dates=['Date'])\n",
    "# Let's focus on country aggregates and drop the subregional data (US and UK states)\n",
    "df_str = df_str[df_str['RegionCode'].isnull()]\n",
    "df_str = df_str[['CountryName', 'CountryCode', 'Date', 'StringencyIndex']]\n",
    "df_str.rename(columns={'CountryName': 'country', 'CountryCode':'code', 'Date': 'date',\n",
    "                       'StringencyIndex': 'stringency'}, inplace=True)\n",
    "str_q1 = df_str[df_str['date'] < '2020-04-01'].groupby('code').mean()['stringency']\n",
    "str_q2 = df_str[(df_str['date'] >= '2020-04-01') & (df_str['date'] < '2020-07-01')].groupby('code').mean()['stringency']\n",
    "str_q3 = df_str[(df_str['date'] >= '2020-07-01') & (df_str['date'] < '2020-10-01')].groupby('code').mean()['stringency']\n",
    "str_q4 = df_str[df_str['date'] >= '2020-10-01'].groupby('code').mean()['stringency']\n",
    "df_str = pd.concat([str_q1, str_q2, str_q3, str_q4], axis=1)\n",
    "df_str.columns = ['stringency_q1', 'stringency_q2', 'stringency_q3', 'stringency_q4']\n",
    "\n",
    "df_all = df_gdp.join(df_str)\n",
    "\n",
    "# Extract mobility data from Google API\n",
    "df_mob = pd.read_csv('https://www.gstatic.com/covid19/mobility/Global_Mobility_Report.csv')\n",
    "\n",
    "# Keep country aggreagates only and drop region-level data\n",
    "df_mob = df_mob.loc[df_mob['sub_region_1'].isna()]\n",
    "df_mob = df_mob.loc[df_mob['sub_region_2'].isna()]\n",
    "df_mob = df_mob.loc[df_mob['metro_area'].isna()]\n",
    "df_mob = df_mob.iloc[:, [0, 1, 7, 8, 9, 10, 11, 12, 13]]\n",
    "\n",
    "df_mob.columns = ['code', 'country', 'date', 'retail', 'grocery', 'parks', 'transit', \n",
    "                  'workplaces', 'residential']\n",
    "\n",
    "input_countries = df_mob['country'].values\n",
    "countries = {}\n",
    "for country in pycountry.countries:\n",
    "    countries[country.name] = country.alpha_3\n",
    "codes = [countries.get(country, 'Unknown code') for country in input_countries]\n",
    "df_mob['iso_code'] = codes\n",
    "df_mob =df_mob[['iso_code', 'country', 'date', 'retail', 'grocery', 'parks', 'transit', \n",
    "                'workplaces', 'residential']]\n",
    "\n",
    "df_mob = df_mob.assign(mobility_index = lambda x: (x.retail + x.grocery + x.parks + \n",
    "                                          x.transit + x.workplaces) / 5)\n",
    "df_mob.set_index('iso_code', inplace=True)\n",
    "df_workmob = df_mob.iloc[:, [0, 1, 6]]\n",
    "workmob_q1 = df_workmob[df_workmob['date'] < '2020-04-01'].groupby(level=0).mean()['workplaces']\n",
    "workmob_q2 = df_workmob[(df_workmob['date'] >= '2020-04-01') & (df_workmob['date'] < '2020-07-01')].groupby(level=0).mean()['workplaces']\n",
    "workmob_q3 = df_workmob[(df_workmob['date'] >= '2020-07-01') & (df_workmob['date'] < '2020-10-01')].groupby(level=0).mean()['workplaces']\n",
    "workmob_q4 = df_workmob[df_workmob['date'] >= '2020-10-01'].groupby(level=0).mean()['workplaces']\n",
    "\n",
    "mob_q1 = df_mob[df_mob['date'] < '2020-04-01'].groupby(level=0).mean()['mobility_index']\n",
    "mob_q2 = df_mob[(df_mob['date'] >= '2020-04-01') & (df_mob['date'] < '2020-07-01')].groupby(level=0).mean()['mobility_index']\n",
    "mob_q3 = df_mob[(df_mob['date'] >= '2020-07-01') & (df_mob['date'] < '2020-10-01')].groupby(level=0).mean()['mobility_index']\n",
    "mob_q4 = df_mob[df_mob['date'] >= '2020-10-01'].groupby(level=0).mean()['mobility_index']\n",
    "\n",
    "df_mob = pd.concat([mob_q1, mob_q2, mob_q3, mob_q4, workmob_q1, workmob_q2, workmob_q3, workmob_q4],\n",
    "                   axis=1)\n",
    "\n",
    "df_mob.columns = ['mobility_q1', 'mobility_q2', 'mobility_q3', 'mobility_q4',\n",
    "                  'workmobility_q1', 'workmobility_q2', 'workmobility_q3', 'workmobility_q4']\n",
    "\n",
    "df_all = df_all.join(df_mob)\n",
    "\n",
    "url_cc = 'https://raw.githubusercontent.com/owid/covid-19-data/master/public/data/owid-covid-data.csv'\n",
    "df_cc = pd.read_csv(url_cc, parse_dates=['date'])\n",
    "df_cc = df_cc[['iso_code', 'location', 'date', 'total_cases_per_million']]\n",
    "df_cc = df_cc[(df_cc['date'] == '2020-03-31') | (df_cc['date'] == '2020-06-30') | \n",
    "              (df_cc['date'] == '2020-09-30') | (df_cc['date'] == '2020-12-31')]\n",
    "df_cc = df_cc.pivot(index='iso_code', columns='date', values='total_cases_per_million')\n",
    "df_cc.columns = ['cc_q1', 'cc_q2', 'cc_q3', 'cc_q4']\n",
    "df_cc = df_cc.assign(lncc_q1 = lambda x: np.log(x.cc_q1), lncc_q2 = lambda x: np.log(x.cc_q2),\n",
    "                     lncc_q3 = lambda x: np.log(x.cc_q3), lncc_q4 = lambda x: np.log(x.cc_q4))\n",
    "\n",
    "df_all = df_all.join(df_cc)\n",
    "\n",
    "df_all.to_excel('GDP-growth-real-time-data.xlsx')\n",
    "\n"
   ]
  },
  {
   "cell_type": "code",
   "execution_count": null,
   "metadata": {},
   "outputs": [],
   "source": []
  }
 ],
 "metadata": {
  "kernelspec": {
   "display_name": "Python 3",
   "language": "python",
   "name": "python3"
  },
  "language_info": {
   "codemirror_mode": {
    "name": "ipython",
    "version": 3
   },
   "file_extension": ".py",
   "mimetype": "text/x-python",
   "name": "python",
   "nbconvert_exporter": "python",
   "pygments_lexer": "ipython3",
   "version": "3.7.6"
  }
 },
 "nbformat": 4,
 "nbformat_minor": 4
}
